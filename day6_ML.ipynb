{
  "nbformat": 4,
  "nbformat_minor": 0,
  "metadata": {
    "colab": {
      "name": "Ensemble_Learning.ipynb",
      "version": "0.3.2",
      "provenance": [],
      "collapsed_sections": [],
      "toc_visible": true,
      "include_colab_link": true
    },
    "kernelspec": {
      "name": "python3",
      "display_name": "Python 3"
    }
  },
  "cells": [
    {
      "cell_type": "markdown",
      "metadata": {
        "id": "view-in-github",
        "colab_type": "text"
      },
      "source": [
        "<a href=\"https://colab.research.google.com/github/venkat-amballa/linear-regression-with-gradient-descent/blob/master/day6_ML.ipynb\" target=\"_parent\"><img src=\"https://colab.research.google.com/assets/colab-badge.svg\" alt=\"Open In Colab\"/></a>"
      ]
    },
    {
      "metadata": {
        "id": "_5pUPLYWgFnk",
        "colab_type": "text"
      },
      "cell_type": "markdown",
      "source": [
        "###Import all the Classifiers Required from *scikit-learn*\n",
        "* Decision Tree \n",
        "* KNeighborsClassifier\n",
        "* Logistic Regression\n",
        "\n"
      ]
    },
    {
      "metadata": {
        "id": "3NE1x8HhbDM0",
        "colab_type": "code",
        "colab": {}
      },
      "cell_type": "code",
      "source": [
        "\n",
        "from sklearn.tree import DecisionTreeClassifier\n",
        "from sklearn import tree\n",
        "from sklearn.neighbors import KNeighborsClassifier\n",
        "from sklearn.linear_model import LogisticRegression\n",
        "\n",
        "import numpy as np\n",
        "import pandas as pd\n",
        "import matplotlib.pyplot as plt\n",
        "from sklearn.model_selection import train_test_split"
      ],
      "execution_count": 0,
      "outputs": []
    },
    {
      "metadata": {
        "id": "Nt4A4vWc_Rg2",
        "colab_type": "code",
        "outputId": "8f2c9cc8-2d0f-414a-a8ea-be84d7a02406",
        "colab": {
          "base_uri": "https://localhost:8080/",
          "height": 34
        }
      },
      "cell_type": "code",
      "source": [
        "import sklearn\n",
        "sklearn.__version__\n"
      ],
      "execution_count": 0,
      "outputs": [
        {
          "output_type": "execute_result",
          "data": {
            "text/plain": [
              "'0.20.2'"
            ]
          },
          "metadata": {
            "tags": []
          },
          "execution_count": 160
        }
      ]
    },
    {
      "metadata": {
        "id": "T4pFtWNEfkFf",
        "colab_type": "text"
      },
      "cell_type": "markdown",
      "source": [
        "### Import the Dataset, Preprocess it and Split"
      ]
    },
    {
      "metadata": {
        "id": "fH-j4snagv89",
        "colab_type": "code",
        "outputId": "9bb048fd-4a54-4e1e-def9-0227ab0ad626",
        "colab": {
          "base_uri": "https://localhost:8080/",
          "height": 51
        }
      },
      "cell_type": "code",
      "source": [
        "# Here data is already preprocessed\n",
        "# So continue to split\n",
        "\n",
        "from sklearn.datasets import load_breast_cancer\n",
        "data = load_breast_cancer() # load_wine() returns dataset, here any dataset in sklearn is of type <class 'sklearn.utils.Bunch'>.\n",
        "                   # it contains data(all features as str), target(all target values as str), DESCR( it contains the \n",
        "                   # description of the dataset), target_names, feature_names\n",
        "                   # For sample use the following code\n",
        "                   # for key in data:\n",
        "                   #   print(key)\n",
        "                   # print(data.DESCR)\n",
        "\n",
        "print(type(data))\n",
        "# print(data.target)\n",
        "\n",
        "X = data.data #Contains all the features of data\n",
        "y = data.target # Contains all the target values\n",
        "\n",
        "print(\"total shape\", X.shape)\n"
      ],
      "execution_count": 0,
      "outputs": [
        {
          "output_type": "stream",
          "text": [
            "<class 'sklearn.utils.Bunch'>\n",
            "total shape (569, 30)\n"
          ],
          "name": "stdout"
        }
      ]
    },
    {
      "metadata": {
        "id": "Enlx2Fnyh_p8",
        "colab_type": "text"
      },
      "cell_type": "markdown",
      "source": [
        "### Split into training and testing"
      ]
    },
    {
      "metadata": {
        "id": "4VErv0ufiBL0",
        "colab_type": "code",
        "outputId": "2040684c-5132-450b-ca2a-61776ee9de79",
        "colab": {
          "base_uri": "https://localhost:8080/",
          "height": 86
        }
      },
      "cell_type": "code",
      "source": [
        "\"\"\"\n",
        "train_test_split(X,y,random_state, test_size)\n",
        "  - First two arguments are X(All features), y(target values)\n",
        "  - Here the random_state when mentioned as int, it will select a random values for seperate values of random_state\\\n",
        "  - Test size should always be between (0,1) indicating the total percentage of data to be given to test..\n",
        "  \n",
        "\"\"\"\n",
        "x_train, x_test, y_train, y_test = train_test_split(X, y, random_state = 2, test_size=0.25)\n",
        "\n",
        "print(x_train.shape)\n",
        "print(x_test.shape)\n",
        "print(y_train.shape)\n",
        "print(y_test.shape)\n",
        "\n",
        "# print(type(x_train))"
      ],
      "execution_count": 0,
      "outputs": [
        {
          "output_type": "stream",
          "text": [
            "(426, 30)\n",
            "(143, 30)\n",
            "(426,)\n",
            "(143,)\n"
          ],
          "name": "stdout"
        }
      ]
    },
    {
      "metadata": {
        "id": "-QP3iG15vH09",
        "colab_type": "text"
      },
      "cell_type": "markdown",
      "source": [
        "### Required Functions"
      ]
    },
    {
      "metadata": {
        "id": "MGVGg_6yvBze",
        "colab_type": "code",
        "colab": {}
      },
      "cell_type": "code",
      "source": [
        "from sklearn.metrics import accuracy_score\n",
        "\n",
        "def model_accuracy( train_pred, y_train, test_pred, y_test):\n",
        "  print(\"\\nTraining Accuracy:\",accuracy_score(train_pred, y_train)*100)\n",
        "  print(\"Testing Accuracy:\",accuracy_score(test_pred, y_test)*100)\n",
        "  \n",
        "  "
      ],
      "execution_count": 0,
      "outputs": []
    },
    {
      "metadata": {
        "id": "dium_Bin0cqf",
        "colab_type": "text"
      },
      "cell_type": "markdown",
      "source": [
        "## Modelling"
      ]
    },
    {
      "metadata": {
        "id": "mLCR6EjeeDL8",
        "colab_type": "code",
        "outputId": "cc07b191-0a55-4af8-8114-c9a52b1da3e3",
        "colab": {
          "base_uri": "https://localhost:8080/",
          "height": 69
        }
      },
      "cell_type": "code",
      "source": [
        "from scipy import stats\n",
        "\n",
        "# Decision Tree\n",
        "\n",
        "model1 = DecisionTreeClassifier(max_depth=4)\n",
        "\n",
        "model1.fit(x_train,y_train)\n",
        "\n",
        "\n",
        "train_pred1 = model1.predict(x_train)\n",
        "\n",
        "test_pred1=model1.predict(x_test)\n",
        "model_accuracy(train_pred1, y_train, test_pred1, y_test)\n",
        "# # print(type(pred))\n",
        "# final_pred = np.array([]) \n",
        "# for i in range(0,len(x_test)):\n",
        "#     final_pred = np.append(final_pred, stats.mode([pred1[i], pred2[i], pred3[i]]).mode)\n",
        "\n"
      ],
      "execution_count": 0,
      "outputs": [
        {
          "output_type": "stream",
          "text": [
            "\n",
            "Training Accuracy: 98.82629107981221\n",
            "Testing Accuracy: 95.1048951048951\n"
          ],
          "name": "stdout"
        }
      ]
    },
    {
      "metadata": {
        "id": "K_tMspyZztNo",
        "colab_type": "code",
        "outputId": "e6ca2b07-71e2-4c47-abe0-6d563ba4f8df",
        "colab": {
          "base_uri": "https://localhost:8080/",
          "height": 69
        }
      },
      "cell_type": "code",
      "source": [
        "# K Neighbors Classifier\n",
        "\n",
        "model2 = KNeighborsClassifier(n_neighbors=4, algorithm='auto', p=1)\n",
        "model2.fit(x_train,y_train)\n",
        "\n",
        "train_pred2 = model2.predict(x_train)\n",
        "\n",
        "test_pred2=model2.predict(x_test)\n",
        "model_accuracy(train_pred2, y_train, test_pred2, y_test)"
      ],
      "execution_count": 0,
      "outputs": [
        {
          "output_type": "stream",
          "text": [
            "\n",
            "Training Accuracy: 96.0093896713615\n",
            "Testing Accuracy: 93.00699300699301\n"
          ],
          "name": "stdout"
        }
      ]
    },
    {
      "metadata": {
        "id": "OvgF4QfbztQw",
        "colab_type": "code",
        "outputId": "06fdc8bb-a9ca-46fa-86a3-e295151bd026",
        "colab": {
          "base_uri": "https://localhost:8080/",
          "height": 124
        }
      },
      "cell_type": "code",
      "source": [
        "# Logistic Regression\n",
        "\n",
        "model3 = LogisticRegression(penalty='l2')\n",
        "model3.fit(x_train,y_train)\n",
        "\n",
        "train_pred3 = model3.predict(x_train)\n",
        "\n",
        "test_pred3 = model3.predict(x_test)\n",
        "\n",
        "model_accuracy(train_pred3, y_train, test_pred3, y_test)\n",
        "\n"
      ],
      "execution_count": 0,
      "outputs": [
        {
          "output_type": "stream",
          "text": [
            "\n",
            "Training Accuracy: 95.77464788732394\n",
            "Testing Accuracy: 93.7062937062937\n"
          ],
          "name": "stdout"
        },
        {
          "output_type": "stream",
          "text": [
            "/usr/local/lib/python3.6/dist-packages/sklearn/linear_model/logistic.py:433: FutureWarning: Default solver will be changed to 'lbfgs' in 0.22. Specify a solver to silence this warning.\n",
            "  FutureWarning)\n"
          ],
          "name": "stderr"
        }
      ]
    },
    {
      "metadata": {
        "id": "gIektnPm5shI",
        "colab_type": "code",
        "colab": {}
      },
      "cell_type": "code",
      "source": [
        "temp_table = pd.DataFrame()\n",
        "temp_table['pred1_dt'] = pd.Series(pred1)\n",
        "temp_table['pred2_knn'] = pd.Series(pred2)\n",
        "temp_table['pred3_log_r'] = pd.Series(pred3)\n",
        "temp_table['final_pred'] = pd.Series(final_pred)\n",
        "temp_table['actual_output'] = pd.Series(y_train)\n",
        "print(temp_table)"
      ],
      "execution_count": 0,
      "outputs": []
    },
    {
      "metadata": {
        "id": "Eq2Ot_lIw24J",
        "colab_type": "code",
        "outputId": "1f2c728b-0be5-491b-81b3-26269b40cf7a",
        "colab": {
          "base_uri": "https://localhost:8080/",
          "height": 173
        }
      },
      "cell_type": "code",
      "source": [
        "\n",
        "model_accuracy(train_pred1, y_train, test_pred1, y_test)\n",
        "\n",
        "model_accuracy(train_pred2, y_train, test_pred2, y_test)\n",
        "\n",
        "model_accuracy(train_pred3, y_train, test_pred3, y_test)"
      ],
      "execution_count": 0,
      "outputs": [
        {
          "output_type": "stream",
          "text": [
            "\n",
            "Training Accuracy: 98.82629107981221\n",
            "Testing Accuracy: 95.1048951048951\n",
            "\n",
            "Training Accuracy: 96.0093896713615\n",
            "Testing Accuracy: 93.00699300699301\n",
            "\n",
            "Training Accuracy: 95.77464788732394\n",
            "Testing Accuracy: 93.7062937062937\n"
          ],
          "name": "stdout"
        }
      ]
    },
    {
      "metadata": {
        "id": "OpAFwWV05Zoh",
        "colab_type": "text"
      },
      "cell_type": "markdown",
      "source": [
        "#** Bonus Points**"
      ]
    },
    {
      "metadata": {
        "id": "5GQzWX6R4z8B",
        "colab_type": "text"
      },
      "cell_type": "markdown",
      "source": [
        "### Code to plt the Decision tree\n",
        "  *  If ran in jupyter note book see the files option in Table Of Contents in  the left, the file will be saved as a pdf file.\n",
        "  *  Double click to download the file and open it in a browser."
      ]
    },
    {
      "metadata": {
        "id": "TcYC3y2i3EEB",
        "colab_type": "code",
        "outputId": "67f3f540-6993-4fd4-d602-1ca99279ebed",
        "colab": {
          "base_uri": "https://localhost:8080/",
          "height": 34
        }
      },
      "cell_type": "code",
      "source": [
        "import graphviz\n",
        "dot_data = tree.export_graphviz(model1, out_file=None)\n",
        "graph = graphviz.Source(dot_data)\n",
        "graph.render(\"cancer\")\n"
      ],
      "execution_count": 0,
      "outputs": [
        {
          "output_type": "execute_result",
          "data": {
            "text/plain": [
              "'cancer.pdf'"
            ]
          },
          "metadata": {
            "tags": []
          },
          "execution_count": 147
        }
      ]
    },
    {
      "metadata": {
        "id": "bdC0YorL8gl5",
        "colab_type": "code",
        "outputId": "9cd11b23-389d-497b-d0fe-70775b6baf44",
        "colab": {
          "base_uri": "https://localhost:8080/",
          "height": 34
        }
      },
      "cell_type": "code",
      "source": [
        "arr = [1,2,3,1]\n",
        "print(stats.mode(arr).mode)"
      ],
      "execution_count": 0,
      "outputs": [
        {
          "output_type": "stream",
          "text": [
            "[1]\n"
          ],
          "name": "stdout"
        }
      ]
    }
  ]
}